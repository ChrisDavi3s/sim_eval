{
 "cells": [
  {
   "cell_type": "code",
   "execution_count": null,
   "metadata": {},
   "outputs": [],
   "source": [
    "from sim_eval import Frames, VASPXMLDiretoryPropertyCalculator, NequIPPropertyCalculator, Property, CHGNetPropertyCalculator\n",
    "from sim_eval import Plotter\n",
    "\n",
    "\n",
    "index = slice(0,10)\n",
    "# Load Frames - can be any ASE supported format\n",
    "frames = Frames('example_frames.extxyz', index=index)\n",
    "\n",
    "# Set up calculators\n",
    "vasp_calc = VASPXMLDiretoryPropertyCalculator('DFT (PBE)', '31_vaspout_xml_frames', 'vasprun_frame', index=index)\n",
    "chgnet_calc = CHGNetPropertyCalculator('CHGNet', 'chgnet.pth.tar')\n",
    "nequip_calc = NequIPPropertyCalculator('Allegro', 'nequip_model.pth')\n",
    "#second_nequip_calc = NequIPPropertyCalculator('Allegro (2)', 'nequip_model_2.pth')\n",
    "\n",
    "#Add data from calculators\n",
    "frames.add_method_data(vasp_calc)\n",
    "frames.add_method_data(chgnet_calc)\n",
    "frames.add_method_data(nequip_calc)\n",
    "#frames.add_method_data(second_nequip_calc)"
   ]
  },
  {
   "cell_type": "markdown",
   "metadata": {},
   "source": []
  },
  {
   "cell_type": "code",
   "execution_count": null,
   "metadata": {},
   "outputs": [],
   "source": [
    "Plotter.plot_scatter(frames, 'forces', vasp_calc,  nequip_calc , per_atom=True)\n",
    "Plotter.plot_scatter(frames, 'energy', vasp_calc,  nequip_calc , per_atom=True)\n",
    "\n",
    "\n"
   ]
  },
  {
   "cell_type": "code",
   "execution_count": null,
   "metadata": {},
   "outputs": [],
   "source": [
    "import matplotlib.pyplot as plt\n",
    "\n",
    "fig,axes = Plotter.plot_scatter(frames, ['energy','forces', 'stress'], vasp_calc,  nequip_calc , per_atom=(True, True, True))"
   ]
  },
  {
   "cell_type": "code",
   "execution_count": null,
   "metadata": {},
   "outputs": [],
   "source": [
    "\n",
    "# Check if axes is a single Axes object or a list of Axes\n",
    "if isinstance(axes, plt.Axes):\n",
    "  axes = [axes]  # Convert to list for uniform processing\n",
    "\n",
    "# Apply modifications\n",
    "for ax in axes:\n",
    "  # Change the title\n",
    "  ax.set_title('Modified Title', fontsize=14)\n",
    "\n",
    "  # Change axis labels\n",
    "  ax.set_xlabel('Modified X Label', fontsize=12)\n",
    "  ax.set_ylabel('Modified Y Label', fontsize=12)\n",
    "\n",
    "  # Change scatter point color\n",
    "  for line in ax.get_lines():\n",
    "      line.set_color('blue')  # Change color to blue\n",
    "\n",
    "  # Add an annotation\n",
    "  ax.annotate('Sample Point', xy=(0.5, 0.5), xytext=(0.6, 0.6),\n",
    "              arrowprops=dict(facecolor='black', shrink=0.05))\n",
    "\n",
    "# Adjust layout if needed\n",
    "fig\n"
   ]
  },
  {
   "cell_type": "code",
   "execution_count": null,
   "metadata": {},
   "outputs": [],
   "source": [
    "import numpy as np\n",
    "import matplotlib.pyplot as plt\n",
    "from matplotlib.colors import Normalize\n",
    "from scipy.stats import gaussian_kde\n",
    "\n",
    "# Assuming fig and axes are already created and populated with scatter plots\n",
    "# Example: fig, axes = YourClass.plot_scatter(...)\n",
    "\n",
    "# If axes is a single Axes object, convert it to a list for uniform processing\n",
    "if isinstance(axes, plt.Axes):\n",
    "    axes = [axes]\n",
    "\n",
    "# pick the 2nd axes\n",
    "axes = [axes[1]]\n",
    "# Iterate over each Axes object to modify the scatter plot\n",
    "for ax in axes:\n",
    "    # Get the PathCollection object from the scatter plot\n",
    "    scatter = ax.collections[0]  # Assuming the first collection is the scatter plot\n",
    "\n",
    "    # Extract the data from the scatter plot\n",
    "    offsets = scatter.get_offsets()\n",
    "    x, y = offsets[:, 0], offsets[:, 1]\n",
    "\n",
    "    # Calculate the point density\n",
    "    xy = np.vstack([x, y])\n",
    "    z = gaussian_kde(xy)(xy)\n",
    "\n",
    "    # Normalize the density values for coloring\n",
    "    norm = Normalize(vmin=z.min(), vmax=z.max())\n",
    "\n",
    "    # Update the scatter plot with the new colors\n",
    "    scatter.set_array(z)\n",
    "    scatter.set_cmap('viridis')  # Choose a colormap\n",
    "    scatter.set_norm(norm)\n",
    "\n",
    "    # Add a colorbar to the plot\n",
    "    plt.colorbar(scatter, ax=ax, label='Density')\n",
    "\n",
    "# Display the modified plot\n",
    "# make the fig high res \n",
    "fig.set_dpi(300)\n",
    "fig\n",
    "\n"
   ]
  },
  {
   "cell_type": "code",
   "execution_count": null,
   "metadata": {},
   "outputs": [],
   "source": []
  },
  {
   "cell_type": "code",
   "execution_count": null,
   "metadata": {},
   "outputs": [],
   "source": [
    "Plotter.print_metrics(frames, ['energy','forces'], vasp_calc, [chgnet_calc,nequip_calc], per_atom=False)"
   ]
  },
  {
   "cell_type": "code",
   "execution_count": null,
   "metadata": {},
   "outputs": [],
   "source": [
    "Plotter.print_metrics(frames, ['energy','forces'], vasp_calc, [chgnet_calc,nequip_calc], per_atom=[False,True], group_per_species=True)"
   ]
  },
  {
   "cell_type": "code",
   "execution_count": null,
   "metadata": {},
   "outputs": [],
   "source": [
    "Plotter.plot_property_distribution(frames, 'forces', [vasp_calc, nequip_calc, chgnet_calc], per_atom=True, legend_location='upper right')"
   ]
  },
  {
   "cell_type": "code",
   "execution_count": null,
   "metadata": {},
   "outputs": [],
   "source": [
    "Plotter.plot_box(frames, 'forces',vasp_calc, [chgnet_calc,nequip_calc], per_atom=True, legend_location='upper right', group_per_species=True, allowed_species=['Li', 'P'])"
   ]
  },
  {
   "cell_type": "code",
   "execution_count": null,
   "metadata": {},
   "outputs": [],
   "source": []
  },
  {
   "cell_type": "code",
   "execution_count": null,
   "metadata": {},
   "outputs": [],
   "source": [
    "\n"
   ]
  }
 ],
 "metadata": {
  "kernelspec": {
   "display_name": "base",
   "language": "python",
   "name": "python3"
  },
  "language_info": {
   "codemirror_mode": {
    "name": "ipython",
    "version": 3
   },
   "file_extension": ".py",
   "mimetype": "text/x-python",
   "name": "python",
   "nbconvert_exporter": "python",
   "pygments_lexer": "ipython3",
   "version": "3.11.8"
  }
 },
 "nbformat": 4,
 "nbformat_minor": 2
}
