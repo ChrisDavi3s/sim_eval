{
 "cells": [
  {
   "cell_type": "code",
   "execution_count": null,
   "metadata": {},
   "outputs": [],
   "source": [
    "from sim_eval import Frames, VASPXMLPropertyCalculator, NequIPPropertyCalculator\n",
    "from sim_eval.plotting import BasePlotter,EnergyPlotter, ForcesPlotter, StressPlotter\n",
    "\n",
    "# Load Frames - can be any ASE supported format\n",
    "frames = Frames('example_frames.extxyz')\n",
    "\n",
    "# Set up calculators\n",
    "vasp_calc = VASPXMLPropertyCalculator('DFT (PBE)', '31_vaspout_xml_frames', 'vasprun_frame')\n",
    "nequip_calc = NequIPPropertyCalculator('Allegro', 'nequip_model.pth')\n",
    "\n",
    "# Add data from calculators\n",
    "frames.add_method_data(vasp_calc)\n",
    "frames.add_method_data(nequip_calc)\n",
    "\n",
    "#Print Metrics\n",
    "EnergyPlotter.print_metrics(frames, vasp_calc, nequip_calc)\n",
    "\n",
    "# Generate plots\n",
    "EnergyPlotter.plot_scatter(frames, vasp_calc, nequip_calc)\n",
    "ForcesPlotter.plot_box(frames, vasp_calc, nequip_calc, per_atom=True)\n",
    "StressPlotter.plot_scatter(frames, vasp_calc, nequip_calc)\n",
    "BasePlotter.plot_all_scatter(frames, vasp_calc, nequip_calc)"
   ]
  }
 ],
 "metadata": {
  "kernelspec": {
   "display_name": "base",
   "language": "python",
   "name": "python3"
  },
  "language_info": {
   "codemirror_mode": {
    "name": "ipython",
    "version": 3
   },
   "file_extension": ".py",
   "mimetype": "text/x-python",
   "name": "python",
   "nbconvert_exporter": "python",
   "pygments_lexer": "ipython3",
   "version": "3.11.8"
  }
 },
 "nbformat": 4,
 "nbformat_minor": 2
}
