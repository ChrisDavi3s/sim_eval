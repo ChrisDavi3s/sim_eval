{
 "cells": [
  {
   "cell_type": "code",
   "execution_count": null,
   "metadata": {},
   "outputs": [],
   "source": [
    "from sim_eval import Frames, VASPXMLDiretoryPropertyCalculator, NequIPPropertyCalculator, Property, CHGNetPropertyCalculator\n",
    "from sim_eval.plotting import BasePlotter,EnergyPlotter, ForcesPlotter, StressPlotter\n",
    "\n",
    "\n",
    "index = slice(0,10)\n",
    "# Load Frames - can be any ASE supported format\n",
    "frames = Frames('example_frames.extxyz', index=index)\n",
    "\n",
    "# Set up calculators\n",
    "vasp_calc = VASPXMLDiretoryPropertyCalculator('DFT (PBE)', '31_vaspout_xml_frames', 'vasprun_frame', index=index)\n",
    "chgnet_calc = CHGNetPropertyCalculator('CHGNet', 'chgnet.pth.tar')\n",
    "nequip_calc = NequIPPropertyCalculator('Allegro', 'nequip_model.pth')\n",
    "#second_nequip_calc = NequIPPropertyCalculator('Allegro (2)', 'nequip_model_2.pth')\n",
    "\n",
    "#Add data from calculators\n",
    "frames.add_method_data(vasp_calc)\n",
    "frames.add_method_data(chgnet_calc)\n",
    "frames.add_method_data(nequip_calc)\n",
    "#frames.add_method_data(second_nequip_calc)"
   ]
  },
  {
   "cell_type": "code",
   "execution_count": null,
   "metadata": {},
   "outputs": [],
   "source": [
    "#Print Metrics\n",
    "#EnergyPlotter.print_metrics(frames, vasp_calc,  [nequip_calc, second_nequip_calc])\n",
    "\n",
    "# Generate plots\n",
    "BasePlotter.plot_all_distributions(frames, [vasp_calc, chgnet_calc, nequip_calc])\n",
    "EnergyPlotter.plot_scatter(frames, vasp_calc, chgnet_calc)\n",
    "EnergyPlotter.plot_box(frames, vasp_calc, [nequip_calc, chgnet_calc], per_atom=True)\n",
    "ForcesPlotter.plot_box(frames, vasp_calc, [nequip_calc, chgnet_calc], per_atom=False, group_spacing=0.1, box_spacing=0.2)\n",
    "ForcesPlotter.plot_box(frames, vasp_calc, [nequip_calc, chgnet_calc], per_atom=True, group_spacing=1, box_spacing=0.2 , atom_types=['Li', 'P'])\n",
    "StressPlotter.plot_scatter(frames, vasp_calc, nequip_calc)\n",
    "BasePlotter.plot_all_scatter(frames, vasp_calc, nequip_calc)"
   ]
  },
  {
   "cell_type": "code",
   "execution_count": null,
   "metadata": {},
   "outputs": [],
   "source": [
    "EnergyPlotter.print_metrics(frames, vasp_calc,nequip_calc)\n",
    "ForcesPlotter.print_metrics(frames, vasp_calc,nequip_calc)\n",
    "StressPlotter.print_metrics(frames, vasp_calc,nequip_calc)"
   ]
  },
  {
   "cell_type": "code",
   "execution_count": null,
   "metadata": {},
   "outputs": [],
   "source": [
    "\n",
    "print('------Energy------')\n",
    "print(frames.get_property_magnitude(Property.ENERGY, vasp_calc, 1).shape)\n",
    "print(frames.get_property_magnitude(Property.ENERGY, vasp_calc, slice(0, 5)).shape)\n",
    "\n",
    "print('------Stress------')\n",
    "print(frames.get_property_magnitude(Property.STRESS, vasp_calc, 1).shape)\n",
    "print(frames.get_property_magnitude(Property.STRESS, vasp_calc, slice(0, 5)).shape)\n",
    "\n",
    "print('------Forces------')\n",
    "print(frames.get_property_magnitude(Property.FORCES, vasp_calc, 1).shape)\n",
    "print(frames.get_property_magnitude(Property.FORCES, vasp_calc, slice(0, 5)).shape)\n",
    "\n",
    "\n",
    "print('------Energy------')\n",
    "print(frames.get_mae(Property.ENERGY, vasp_calc, nequip_calc, 1))\n",
    "print(frames.get_rmse(Property.ENERGY, vasp_calc, nequip_calc, slice(0, 5)))\n",
    "print(frames.get_mae(Property.ENERGY, vasp_calc, [nequip_calc,nequip_calc], 1))\n",
    "print(frames.get_rmse(Property.ENERGY, vasp_calc,  [nequip_calc,nequip_calc], slice(0, 5)))\n",
    "print(frames.get_correlation(Property.ENERGY, vasp_calc, nequip_calc, 1))\n",
    "print(frames.get_correlation(Property.ENERGY, vasp_calc, nequip_calc, slice(0, 5)))\n",
    "\n",
    "print('------Stress------')\n",
    "print(frames.get_mae(Property.STRESS, vasp_calc, nequip_calc, 1))\n",
    "print(frames.get_rmse(Property.STRESS, vasp_calc, nequip_calc, slice(0, 5)))\n",
    "print(frames.get_mae(Property.STRESS, vasp_calc, [nequip_calc,nequip_calc], 1))\n",
    "print(frames.get_rmse(Property.STRESS, vasp_calc,  [nequip_calc,nequip_calc], slice(0, 5)))\n",
    "print(frames.get_correlation(Property.STRESS, vasp_calc, nequip_calc, 1))\n",
    "print(frames.get_correlation(Property.STRESS, vasp_calc, nequip_calc, slice(0, 5)))\n",
    "\n",
    "print('------Forces------')\n",
    "print(frames.get_mae(Property.FORCES, vasp_calc, nequip_calc, 1))\n",
    "print(frames.get_rmse(Property.FORCES, vasp_calc, nequip_calc, slice(0, 5)))\n",
    "print(frames.get_mae(Property.FORCES, vasp_calc, [nequip_calc,nequip_calc], 1))\n",
    "print(frames.get_rmse(Property.FORCES, vasp_calc,  [nequip_calc,nequip_calc], slice(0, 5)))\n",
    "print(frames.get_correlation(Property.FORCES, vasp_calc, nequip_calc, 1))\n",
    "print(frames.get_correlation(Property.FORCES, vasp_calc, nequip_calc, slice(0, 5)))\n",
    "\n"
   ]
  }
 ],
 "metadata": {
  "kernelspec": {
   "display_name": "base",
   "language": "python",
   "name": "python3"
  },
  "language_info": {
   "codemirror_mode": {
    "name": "ipython",
    "version": 3
   },
   "file_extension": ".py",
   "mimetype": "text/x-python",
   "name": "python",
   "nbconvert_exporter": "python",
   "pygments_lexer": "ipython3",
   "version": "3.11.8"
  }
 },
 "nbformat": 4,
 "nbformat_minor": 2
}
